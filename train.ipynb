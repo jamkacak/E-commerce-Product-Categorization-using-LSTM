{
 "cells": [
  {
   "cell_type": "code",
   "execution_count": 1,
   "metadata": {},
   "outputs": [],
   "source": [
    "import keras\n",
    "import os\n",
    "import sklearn\n",
    "import numpy as np\n",
    "import pandas as pd"
   ]
  },
  {
   "cell_type": "code",
   "execution_count": 2,
   "metadata": {},
   "outputs": [
    {
     "data": {
      "application/vnd.microsoft.datawrangler.viewer.v0+json": {
       "columns": [
        {
         "name": "index",
         "rawType": "int64",
         "type": "integer"
        },
        {
         "name": "target",
         "rawType": "object",
         "type": "string"
        },
        {
         "name": "train",
         "rawType": "object",
         "type": "unknown"
        }
       ],
       "conversionMethod": "pd.DataFrame",
       "ref": "1a4f1aa1-c519-4ac6-ac4b-2c8d79f3eea4",
       "rows": [
        [
         "0",
         "Household",
         "Paper Plane Design Framed Wall Hanging Motivational Office Decor Art Prints (8.7 X 8.7 inch) - Set of 4 Painting made up in synthetic frame with uv textured print which gives multi effects and attracts towards it. This is an special series of paintings which makes your wall very beautiful and gives a royal touch. This painting is ready to hang, you would be proud to possess this unique painting that is a niche apart. We use only the most modern and efficient printing technology on our prints, with only the and inks and precision epson, roland and hp printers. This innovative hd printing technique results in durable and spectacular looking prints of the highest that last a lifetime. We print solely with top-notch 100% inks, to achieve brilliant and true colours. Due to their high level of uv resistance, our prints retain their beautiful colours for many years. Add colour and style to your living space with this digitally printed painting. Some are for pleasure and some for eternal bliss.so bring home this elegant print that is lushed with rich colors that makes it nothing but sheer elegance to be to your friends and family.it would be treasured forever by whoever your lucky recipient is. Liven up your place with these intriguing paintings that are high definition hd graphic digital prints for home, office or any room."
        ],
        [
         "1",
         "Household",
         "SAF 'Floral' Framed Painting (Wood, 30 inch x 10 inch, Special Effect UV Print Textured, SAO297) Painting made up in synthetic frame with UV textured print which gives multi effects and attracts towards it. This is an special series of paintings which makes your wall very beautiful and gives a royal touch (A perfect gift for your special ones)."
        ],
        [
         "2",
         "Household",
         "SAF 'UV Textured Modern Art Print Framed' Painting (Synthetic, 35 cm x 50 cm x 3 cm, Set of 3) Color:Multicolor                                                                                 |                            Size:35 cm x 50 cm x 3 cm   Overview a beautiful painting involves the action or skill of using paint in the right manner; hence, the end product will be a picture that can speak a thousand words they say. Arts have been in trend for quite some time now. It can give different viewer different meanings style and design the SAF wood matte abstract painting with frame is quite abstract and mysteriously beautiful. The painting has a nice frame to it. You can gift this to a family or a friend. The painting has various forms of certain figures on it as seen in the image. You can add a good set of lights to the place where the painting is and the decor will give a different feel and look to the place. Quality and durability the painting has a matte finish and includes a good quality frame and will last for a long period. However, it does not include glass along with the frame. Specifications you can purchase SAF wood matte abstract painting with frame on amazon.in. It is the most customer-friendly platform with a wide range of products to choose from, and shopping is just a click away!"
        ],
        [
         "3",
         "Household",
         "SAF Flower Print Framed Painting (Synthetic, 13.5 inch x 22 inch, UV Textured, Set of 3, SANFSW4951) Color:Multicolor                                                                                 |                            Size:35 cm x 50 cm x 2 cm   A beautiful painting involves the action or skill of using paint in the right manner, hence, the end product will be a picture that can speak a thousand words they say. Arts have been in trend for quite some time now. It can give different viewer different meanings style and design the saf wood matte painting with frame is quite abstract and mysteriously beautiful. The painting has a nice frame to it. You can gift this to a family or a friend. The painting has various forms of certain figures on it as seen in the image. You can add a good set of lights to the place where the painting is and the decor will give a different feel and look to the place. Quality and durability the painting has a matte finish and includes a good quality frame and will last for a long period. However, it does not include glass along with the frame."
        ],
        [
         "4",
         "Household",
         "Incredible Gifts India Wooden Happy Birthday Unique Personalized Gift (5 X 4 Inch) Size:4 x 5   Made Of Natural Imported Wood, Which Is Quite Solid With Light Particle Pattern & Is Soft Pale To Blond Colour. Your Uploaded Photo Will Look Amazing And Beautiful After Laser Engraving On It. This Is One Of The Most Popular Unique Gifts In Our Store. We Offer This In Multiple Sizes, Some Can Be Used As Table Top And The Big Sizes Can Be Used As Wall Hanging Which Just Blends With Your Home Decaration. You Just Need To Upload A Picture And Add Your Own Text And We Will Do The Rest For You. We Will Email You The Preview Before Making The Final Product. Do You Want The Best Moment Of Your Life To Be Engraved On A Wooden Plaque That Lasts For A Longer Time And Stays Close To You Forever? Then You Are At The Right Place. We Present To You Various Sizes Personalized Engraved Wooden Plaques Made With Birch Wood. Let Your Memories Be Engraved On Wooden Plaques And Stay With Your Forever."
        ],
        [
         "5",
         "Household",
         "Pitaara Box Romantic Venice Canvas Painting 6mm Thick Mdf Frame 21.1 X 14Inch Enclosure Material:MDF Mount Frame                                                                                 |                            Size:21.1inch x 14inch (53.6cms x 35.6cms)   SIZE: 21.1 inch x 14.0 inch (53.6 cms x 35.6 cms)  Enhance the beauty of your room walls with this breathtaking digital printed artwork. Our high-end printing technology captures every detail of the image in our prints on enhanced matte painting canvas, ensuring rich and lively colours. This wall art panel is mounted on MDF and ready to hang on walls. Beautiful interior home d©cor artwork gifts for Living, Dining Room, Outdoor, Gallery, Hotels, Restaurants, Office, Reception, Kitchen Area, Balcony and Bathroom.  Pitaara Box offers an exclusive collection of thousands of artworks, digital paintings, canvas prints, wall posters, and other wall decor products for your home, office, and surroundings. We provide a never-ending range of creative and spectacular art products, which can be used for gifting on every occasion and every season.  TAGS: wall, paintings, canvas, prints, modern, art, abstract, designer, wallart, artwork, home, bedroom, dining, living, drawing, room, digital, printing, bathroom, common, area, kitchen, office, decorative, stretch, stretched, framed, framing, beautiful, classy, royal, special, unique, elegant, stylish, creative, affordable, best, photo, gifts, fabrics, balcony, interior, exterior, outdoor, gallery, hotels, restaurants, colourful, colorful, small, large, extra large, oversized, hangings, giant, slim, durable, waterproof, buy, shop, purchase, decor, online, Places, Vintage, Canvas, romantic, Venice, artwork, painting, style"
        ],
        [
         "6",
         "Household",
         "Paper Plane Design Starry Night Vangoh Wall Art Canvas Painting. Large Size Rolled Canvas Art Print (36\" X 48\") We use only the most modern and efficient printing technology on our canvases, with only the best and original inks and precision Epson< Roland and HP printers. This innovative HD printing technique results in durable and spectacular looking prints of the highest quality that last a lifetime. We print solely with top-notch inks, to achieve brilliant and true colours. Due to their high level of UV Resistance, our Canvas prints retain their beautiful colours for many years. Our canvases contain high levels of white, to ensure that the colours of your original image are reproduced exactly, with brilliant tones. Add colour and style to your living space with this digitally printed canvas painting. Some gifts are for pleasure and some for eternal bliss.So bring home this elegant Canvas print that is lushed with Rich colors that makes it nothing but sheer elegance to be gifted to your friends and family.It would be treasured forever by whoever your lucky recipient is. Liven up your place with these intriguing paintings on canvas that are high definition hd graphic digital prints for home, office or any room. A perfect size of 36 inches x 48 inches suits every size of space and are a great match with every architectural setting. We prove raw canvas prints with special left extra margins for any type of framing required which you can get done as you please. Art comes in a safe delivery tube. prints are made using latest technology and original inks to get a perfect colour and long lasting design."
        ],
        [
         "7",
         "Household",
         "Pitaara Box Romantic Venice Canvas Painting 6mm Thick Mdf Frame 21.1 X 14Inch Enclosure Material:MDF Mount Frame                                                                                 |                            Size:21.1inch x 14inch (53.6cms x 35.6cms)   SIZE: 21.1 inch x 14.0 inch (53.6 cms x 35.6 cms)  Enhance the beauty of your room walls with this breathtaking digital printed artwork. Our high-end printing technology captures every detail of the image in our prints on enhanced matte painting canvas, ensuring rich and lively colours. This wall art panel is mounted on MDF and ready to hang on walls. Beautiful interior home d©cor artwork gifts for Living, Dining Room, Outdoor, Gallery, Hotels, Restaurants, Office, Reception, Kitchen Area, Balcony and Bathroom.  Pitaara Box offers an exclusive collection of thousands of artworks, digital paintings, canvas prints, wall posters, and other wall decor products for your home, office, and surroundings. We provide a never-ending range of creative and spectacular art products, which can be used for gifting on every occasion and every season.  TAGS: wall, paintings, canvas, prints, modern, art, abstract, designer, wallart, artwork, home, bedroom, dining, living, drawing, room, digital, printing, bathroom, common, area, kitchen, office, decorative, stretch, stretched, framed, framing, beautiful, classy, royal, special, unique, elegant, stylish, creative, affordable, best, photo, gifts, fabrics, balcony, interior, exterior, outdoor, gallery, hotels, restaurants, colourful, colorful, small, large, extra large, oversized, hangings, giant, slim, durable, waterproof, buy, shop, purchase, decor, online, Places, Vintage, Canvas, romantic, Venice, artwork, painting, style"
        ],
        [
         "8",
         "Household",
         "SAF 'Ganesh Modern Art Print' Painting (Synthetic, 35 cm x 50 cm x 2 cm, Set of 3) Color:Multicolor   Overview a beautiful painting involves the action or skill of using paint in the right manner; hence, the end product will be a picture that can speak a thousand words they say. Arts have been in trend for quite some time now. It can give different viewer different meanings style and design the SAF wood matte abstract painting with frame is quite abstract and mysteriously beautiful. The painting has a nice frame to it. You can gift this to a family or a friend. The painting has various forms of certain figures on it as seen in the image. You can add a good set of lights to the place where the painting is and the decor will give a different feel and look to the place. Quality and durability the painting has a matte finish and includes a good quality frame and will last for a long period. However, it does not include glass along with the frame. Specifications you can purchase SAF wood matte abstract painting with frame on amazon.in. It is the most customer-friendly platform with a wide range of products to choose from, and shopping is just a click away!"
        ],
        [
         "9",
         "Household",
         "Paintings Villa UV Textured Modern Art Print Framed Painting Home Decoration - Size 35 X 2 X 50 cm Paintings Villa UV Textured Modern Art Print Framed Painting Home Decoration - Size 35 X 2 X 50 cm Decorate your home and office walls with these artistic design satin matt texture framed UV art print from MAV. Each design reflects the artistic qualities and time one has taken to design this poster. Exquisitely printed and framed it is also a perfect gifting option for your colleagues loved ones and family members. These frames don't include glass so it is very light weight and wet cloth can be used to clean it."
        ],
        [
         "10",
         "Household",
         "Painting Mantra Art Street - Jardin Bird Framed Art Print Set of 4 Black (10 x 10 inch) Color:Color - Black ||Theme - Jardin Black   Breath new life into your home and office with this original painting re-print. These high quality printed canvas are of size 10 inch by 10 inch, comes framed and ready to hang. Note: Print doesn't need any glass for protection and hence this comes without the glass."
        ],
        [
         "11",
         "Household",
         "Paper Plane Design Starry Night Vangoh Wall Art Canvas Painting. Large Size Rolled Canvas Art Print (36\" X 48\") We use only the most modern and efficient printing technology on our canvases, with only the best and original inks and precision Epson< Roland and HP printers. This innovative HD printing technique results in durable and spectacular looking prints of the highest quality that last a lifetime. We print solely with top-notch inks, to achieve brilliant and true colours. Due to their high level of UV Resistance, our Canvas prints retain their beautiful colours for many years. Our canvases contain high levels of white, to ensure that the colours of your original image are reproduced exactly, with brilliant tones. Add colour and style to your living space with this digitally printed canvas painting. Some gifts are for pleasure and some for eternal bliss.So bring home this elegant Canvas print that is lushed with Rich colors that makes it nothing but sheer elegance to be gifted to your friends and family.It would be treasured forever by whoever your lucky recipient is. Liven up your place with these intriguing paintings on canvas that are high definition hd graphic digital prints for home, office or any room. A perfect size of 36 inches x 48 inches suits every size of space and are a great match with every architectural setting. We prove raw canvas prints with special left extra margins for any type of framing required which you can get done as you please. Art comes in a safe delivery tube. prints are made using latest technology and original inks to get a perfect colour and long lasting design."
        ],
        [
         "12",
         "Household",
         "Pitaara Box Romantic Venice Canvas Painting 6mm Thick Mdf Frame 21.1 X 14Inch Enclosure Material:MDF Mount Frame                                                                                 |                            Size:21.1inch x 14inch (53.6cms x 35.6cms)   SIZE: 21.1 inch x 14.0 inch (53.6 cms x 35.6 cms)  Enhance the beauty of your room walls with this breathtaking digital printed artwork. Our high-end printing technology captures every detail of the image in our prints on enhanced matte painting canvas, ensuring rich and lively colours. This wall art panel is mounted on MDF and ready to hang on walls. Beautiful interior home d©cor artwork gifts for Living, Dining Room, Outdoor, Gallery, Hotels, Restaurants, Office, Reception, Kitchen Area, Balcony and Bathroom.  Pitaara Box offers an exclusive collection of thousands of artworks, digital paintings, canvas prints, wall posters, and other wall decor products for your home, office, and surroundings. We provide a never-ending range of creative and spectacular art products, which can be used for gifting on every occasion and every season.  TAGS: wall, paintings, canvas, prints, modern, art, abstract, designer, wallart, artwork, home, bedroom, dining, living, drawing, room, digital, printing, bathroom, common, area, kitchen, office, decorative, stretch, stretched, framed, framing, beautiful, classy, royal, special, unique, elegant, stylish, creative, affordable, best, photo, gifts, fabrics, balcony, interior, exterior, outdoor, gallery, hotels, restaurants, colourful, colorful, small, large, extra large, oversized, hangings, giant, slim, durable, waterproof, buy, shop, purchase, decor, online, Places, Vintage, Canvas, romantic, Venice, artwork, painting, style"
        ],
        [
         "13",
         "Household",
         "Painting Mantra 'Vintage Car' Art Printing Set (Synthetic Wood, 60 cm x 50 cm x 2 cm, Brown, Set of 4) Size:60 cm x 50 cm x 2 cm   From the house of art street, we bring this exclusive framed poster to satiate the taste of decor freaks and vintage cars lovers. The filling station-vintage car brown framed poster is a high resolution vintage poster which comes covered in a brown frame. Hang the framed posters depicting image of a car from the nostalgic era on your favourite wall and make it look colourful and vibrant. The product is durable and of high quality. Presented to you with love from art street."
        ],
        [
         "14",
         "Household",
         "Indianara Motivational Square Synthetic Wood Art Painting (23 cm x 23 cm x 6 cm, Set of 4, Multicolor)"
        ],
        [
         "15",
         "Household",
         "Tamatina Fabric Raja Ravi Varma Hamsa Damyanthi Academic Art Decor Canvas Paintings (Multicolour) Size:Large/23x35 inches   We at tamatina-tm are excited to bring you a fine line of canvas paintings. We work very hard, hand picking designs best suited for canvas art ; then fine tuning images ; trials till we achieve what we can impress you with. We just want you to feel awesome, when you admire it hanging on the wall. Br about the canvas ; digital print: b br ; polyester cotton canvas fabric, hand-picked for each design for best output. It is built to absorb machine print ink ; brings a glorious visual once done. Digital printers we use are designed for fine art reproduction ; our inks are only oil based for that gorgeous finish. they are easy to maintain ; clean as the colors are digitally embedded on the canvas. You don't need a glass for saving the painting from dust as the painting can be cleaned with damp cloth once in a while ; no colors would come off. br ; for more info. Display image is digital, print would have a canvas effect."
        ],
        [
         "16",
         "Household",
         "SAF Flower Print Framed Painting (Synthetic, 13.5 inch x 22 inch, UV Textured, Set of 3, SANFSW4951) Color:Multicolor                                                                                 |                            Size:35 cm x 50 cm x 2 cm   A beautiful painting involves the action or skill of using paint in the right manner, hence, the end product will be a picture that can speak a thousand words they say. Arts have been in trend for quite some time now. It can give different viewer different meanings style and design the saf wood matte painting with frame is quite abstract and mysteriously beautiful. The painting has a nice frame to it. You can gift this to a family or a friend. The painting has various forms of certain figures on it as seen in the image. You can add a good set of lights to the place where the painting is and the decor will give a different feel and look to the place. Quality and durability the painting has a matte finish and includes a good quality frame and will last for a long period. However, it does not include glass along with the frame."
        ],
        [
         "17",
         "Household",
         "Posterhouzz Comics Superhero Thor Joker Black Panther Ultron Daredevil Deadpool Flash STA. Fine Art Paper Print Poster_** ABO397 Creative, digitally printed paper posters for your home or office. Funny, inspiring and lovable designs to choose from. This Poster Is for framing. Spruce up your home with a fantastic of Wall Art from Posterhouzz."
        ],
        [
         "18",
         "Household",
         "ART DIOR | Set of 3 Modern Art Prints - Winter Tree Printed on a Single Print | Canvas Wall Art | Unframed Canvas Art Print| 18 inch x 46 inch Enclosure Material:Canvas Art Print                                                                                 |                            Size:18\" x 46\" Art Print Only   Giclée art from Creative team of Art Dior. Printed by dedicated art printer on Epson 9900 on very specialized coated canvas to bring out brush stroke details, brilliance of colors, dimensional stability and lasting colors for archival use. Add soul to your walls, add volumes of euphoric feel once properly framed and displayed on Living, Drawing & Dining Room, Gallery, Hotels, Bar, Lounge, Restaurants, Office, Reception, Kitchen Area, Bathroom. Packed with utmost care for mint fresh condition delivery. Art prints are of very specialized fine ink quality and color gamut to maintain color depth and brilliance, direct sunlight should be avoided. Please confirm size before placing any order. TERMS & CONDITIONS BEFORE PLACING YOUR ORDER: 1. Product colours remains closest to as shown in the product image but may vary slightly when viewed on different monitors or screens. Please check product specifications and size thoroughly before placing your order. 2. If buyer wants to return the product, then return courier charges will be borne by the buyer. 3. Refund process will be Initiated only when the vendor gets custody of the returned product in it's orignal packaging & labels. 4. Refund will only be initated if there is a manufacturing defect or if the product was damaged in transit. No refunds will be initiated if the product returned is physically or chemically tampered with. 5. Framed Art Prints will only be compensated if damaged in transit."
        ],
        [
         "19",
         "Household",
         "ART DIOR | Dancing Village Girls | Canvas Wall Art | Unframed Canvas Art Print | 18 inch x 46 inch | Enclosure Material:Canvas Art Print                                                                                 |                            Size:18\" x 46\" Art Print Only   Giclée art from Creative team of Art Dior. Printed by dedicated art printer on Epson 9900 on very specialized coated canvas to bring out brush stroke details, brilliance of colors, dimensional stability and lasting colors for archival use. Add soul to your walls, add volumes of euphoric feel once properly framed and displayed on Living, Drawing & Dining Room, Gallery, Hotels, Bar, Lounge, Restaurants, Office, Reception, Kitchen Area, Bathroom. Packed with utmost care for mint fresh condition delivery. Art prints are of very specialized fine ink quality and color gamut to maintain color depth and brilliance, direct sunlight should be avoided. Please confirm size before placing any order. TERMS & CONDITIONS BEFORE PLACING YOUR ORDER: 1. Product colours remains closest to as shown in the product image but may vary slightly when viewed on different monitors or screens. Please check product specifications and size thoroughly before placing your order. 2. If buyer wants to return the product, then return courier charges will be borne by the buyer. 3. Refund process will be Initiated only when the vendor gets custody of the returned product in it's orignal packaging & labels. 4. Refund will only be initated if there is a manufacturing defect or if the product was damaged in transit. No refunds will be initiated if the product returned is physically or chemically tampered with. 5. Framed Art Prints will only be compensated if damaged in transit."
        ],
        [
         "20",
         "Household",
         "SAF 'UV Textured Modern Art Print Framed' Painting (Synthetic, 35 cm x 50 cm x 3 cm, Set of 3) Color:Multicolor                                                                                 |                            Size:35 cm x 50 cm x 3 cm   Overview a beautiful painting involves the action or skill of using paint in the right manner; hence, the end product will be a picture that can speak a thousand words they say. Arts have been in trend for quite some time now. It can give different viewer different meanings style and design the SAF wood matte abstract painting with frame is quite abstract and mysteriously beautiful. The painting has a nice frame to it. You can gift this to a family or a friend. The painting has various forms of certain figures on it as seen in the image. You can add a good set of lights to the place where the painting is and the decor will give a different feel and look to the place. Quality and durability the painting has a matte finish and includes a good quality frame and will last for a long period. However, it does not include glass along with the frame. Specifications you can purchase SAF wood matte abstract painting with frame on amazon.in. It is the most customer-friendly platform with a wide range of products to choose from, and shopping is just a click away!"
        ],
        [
         "21",
         "Household",
         "SAF 'Floral' Framed Painting (Wood, 30 inch x 10 inch, Special Effect UV Print Textured, SAO297) Painting made up in synthetic frame with UV textured print which gives multi effects and attracts towards it. This is an special series of paintings which makes your wall very beautiful and gives a royal touch (A perfect gift for your special ones)."
        ],
        [
         "22",
         "Household",
         "Incredible Gifts India Wooden Happy Birthday Unique Personalized Gift (5 X 4 Inch) Size:4 x 5   Made Of Natural Imported Wood, Which Is Quite Solid With Light Particle Pattern & Is Soft Pale To Blond Colour. Your Uploaded Photo Will Look Amazing And Beautiful After Laser Engraving On It. This Is One Of The Most Popular Unique Gifts In Our Store. We Offer This In Multiple Sizes, Some Can Be Used As Table Top And The Big Sizes Can Be Used As Wall Hanging Which Just Blends With Your Home Decaration. You Just Need To Upload A Picture And Add Your Own Text And We Will Do The Rest For You. We Will Email You The Preview Before Making The Final Product. Do You Want The Best Moment Of Your Life To Be Engraved On A Wooden Plaque That Lasts For A Longer Time And Stays Close To You Forever? Then You Are At The Right Place. We Present To You Various Sizes Personalized Engraved Wooden Plaques Made With Birch Wood. Let Your Memories Be Engraved On Wooden Plaques And Stay With Your Forever."
        ],
        [
         "23",
         "Household",
         "Posterhouzz Comics Superhero Thor Joker Black Panther Ultron Daredevil Deadpool Flash STA. Fine Art Paper Print Poster_** ABO397 Creative, digitally printed paper posters for your home or office. Funny, inspiring and lovable designs to choose from. This Poster Is for framing. Spruce up your home with a fantastic of Wall Art from Posterhouzz."
        ],
        [
         "24",
         "Household",
         "Indianara Motivational Square Synthetic Wood Art Painting (23 cm x 23 cm x 6 cm, Set of 4, Multicolor)"
        ],
        [
         "25",
         "Household",
         "Painting Mantra Synthetic Wood Art Street Tropical Framed Canvas Art Print (11 X 13 inch, Green) Color:color - green|| theme - tropical green   Make a blank space pop with rad art prints. Better yet, start a gallery wall and mix art prints, posters, canvas prints and framed prints of all sizes to elevate your space with the design. This art print is printed on gallery canvas natural white color, matte, and ultra smooth texture. Box frame used which highlight the print even more."
        ],
        [
         "26",
         "Household",
         "ART DIOR | 8 Running Horses | Canvas Wall Art | Unframed Canvas Art Print | 18 inch x 46 inch | Enclosure Material:Canvas Art Print                                                                                 |                            Size:18\" x 46\" Art Print Only   Giclée art from Creative team of Art Dior. Printed by dedicated art printer on Epson 9900 on very specialized coated canvas to bring out brush stroke details, brilliance of colors, dimensional stability and lasting colors for archival use. Add soul to your walls, add volumes of euphoric feel once properly framed and displayed on Living, Drawing & Dining Room, Gallery, Hotels, Bar, Lounge, Restaurants, Office, Reception, Kitchen Area, Bathroom. Packed with utmost care for mint fresh condition delivery. Art prints are of very specialized fine ink quality and color gamut to maintain color depth and brilliance, direct sunlight should be avoided. Please confirm size before placing any order. TERMS & CONDITIONS BEFORE PLACING YOUR ORDER: 1. Product colours remains closest to as shown in the product image but may vary slightly when viewed on different monitors or screens. Please check product specifications and size thoroughly before placing your order. 2. If buyer wants to return the product, then return courier charges will be borne by the buyer. 3. Refund process will be Initiated only when the vendor gets custody of the returned product in it's orignal packaging & labels. 4. Refund will only be initated if there is a manufacturing defect or if the product was damaged in transit. No refunds will be initiated if the product returned is physically or chemically tampered with. 5. Framed Art Prints will only be compensated if damaged in transit."
        ],
        [
         "27",
         "Household",
         "Painting Mantra Synthetic Wood Art Street Tropical Framed Canvas Art Print (11 X 13 inch, Green) Color:color - green|| theme - tropical green   Make a blank space pop with rad art prints. Better yet, start a gallery wall and mix art prints, posters, canvas prints and framed prints of all sizes to elevate your space with the design. This art print is printed on gallery canvas natural white color, matte, and ultra smooth texture. Box frame used which highlight the print even more."
        ],
        [
         "28",
         "Household",
         "Streetkart Women's & Girl's Traditional Kutchi Art Work Sling Bag/Fashionable Sling Bag for Women/Stylish Polyester Sling Bag for Casual & Formal Wear Give you new look by carry this Hand-crafted embroidered Sling Bag from the house of Streetkart .This handbag are specially design by Artisans from kutchh .This is one of the most stylish and popular design of Sling Bag, suitable for both young girls and women. Stylish Sling perfect for parties and clubbing, or for casual daily use.This Bag Is Great Choice To Keep For All Girls And Women, It Makes A Fashion Statement And Provide A Fancy Space To Keep All Your Daily Essential.FEATURES :- The styling and warm colour reflects the latest season's trends.The Straps Facilitate An Effortless Portability.♥ This Sling bag Will Go Well With Formals And Casuals As Well. It brings you more casual or party feel and happy to carry it all the time.It comes with Stylish Solid Pattern A fashion bag full of personality, convenient for you to hold cash, coin, keys, Cellphone, cards .Perfect for all ages. Care Instructions: Do not expose to extreme heat and wipe with damp cloth ."
        ],
        [
         "29",
         "Household",
         "SAF 'Buddha Religious' Painting (Synthetic, 13.5 inch x 22 inch, SA30) Color:multicolour                                                                                 |                            Size:35 cm x 3 cm x 50 cm   It is a textured effect canvas print with UV which gives a multi-effect. It is in a Italian designed frame in a synthetic material."
        ],
        [
         "30",
         "Household",
         "SAF Framed Painting (Wood, 15 inch x 18 inch, Set of 3) Painting made up in synthetic frame with UV textured print which gives multi-effects and attracts towards it. This is an special series of paintings which makes your wall very beautiful and gives a royal touch. A perfect gift for your special ones."
        ],
        [
         "31",
         "Household",
         "Paintings Villa UV Textured Modern Art Print Framed Painting Home Decoration - Size 35 X 2 X 50 cm Paintings Villa UV Textured Modern Art Print Framed Painting Home Decoration - Size 35 X 2 X 50 cm Decorate your home and office walls with these artistic design satin matt texture framed UV art print from MAV. Each design reflects the artistic qualities and time one has taken to design this poster. Exquisitely printed and framed it is also a perfect gifting option for your colleagues loved ones and family members. These frames don't include glass so it is very light weight and wet cloth can be used to clean it."
        ],
        [
         "32",
         "Household",
         "SAF Premium Butterfly Diamond Cut 4 Panel Ink Painting (Synthetic, 57 cm x 101 cm x 2 cm, Set of 4) Overview a beautiful painting involves the action or skill of using paint in the right manner. Hence, the end product will be a picture that can speak a thousand words they say. Arts have been in trend for quite some time now. It can give different viewer different meanings style and design the SAF wood matte abstract painting with frame is quite abstract and mysteriously beautiful. The painting has a nice frame to it. You can gift this to a family or a friend. The painting has various forms of certain figures on it as seen in the image. You can add a good set of lights to the place where the painting is, and the decor will give a different feel and look to the place. Quality and durability the painting has a matte finish and includes a good quality frame, and will last for a long period. However, it does not include glass along with the frame. Specifications You can purchase SAF wood matte abstract painting with frame on amazon.in. It is the most customer friendly platform with a wide range of products to choose from, and shopping is just a click away."
        ],
        [
         "33",
         "Household",
         "Art Street Shooting Star Set of 16 Individual Photo Frame- Multiple Size (3 Units of 8x10, 4 Units of 6x8, 4 Units of 5x7, 3 Units of 4x6, 2 Units of 6x10) live your golden memories by decorating your place with photographs. Bright colours and specially handcrafted artistic make, give these pieces a vibrant and modish touch to the plain walls of your living space. Give a personalized touch to your gifts by picking one of these pieces."
        ],
        [
         "34",
         "Household",
         "Indianara Square Synthetic Wood Framed Wall Hanging Art Painting (22.49 cm x 22.49 cm x 3.5 cm, Set of 4) Adorn the walls of your living space with this exquisitely made, aesthetically pleasing, and visually stimulating 4 piece set of framed wall hanging art print. The frames are made of brown synthetic wood and will breathe a fresh life in the walls of your room. It will also make a thoughtful and unique gift for your loved ones on special occasions such as birthdays::wedding anniversary::house warming ceremony and festivals."
        ],
        [
         "35",
         "Household",
         "SAF 'Ganesha' Framed Painting (Wood, 12 inch x 12 inch)"
        ],
        [
         "36",
         "Household",
         "SAF 'Flower Floral' Painting (Synthetic, 13.5 inch x 22 inch) Color:Multicolour                                                                                 |                            Size:35 cm x 3 cm x 38 cm   It is a textured effect canvas print with UV which gives a multi-effect. It is in a Italian designed frame in a synthetic material."
        ],
        [
         "37",
         "Household",
         "SAF 'Ganesha' Painting (Wood, 12 inch x 12 inch, Special Effect Textured, SAO97) Painting made up in synthetic frame with UV textured print which gives multi-effects and attracts towards it. This is an special series of paintings which makes your wall very beautiful and gives a royal touch. A perfect gift for your special ones."
        ],
        [
         "38",
         "Household",
         "SAF 'Radha Krishna' Wall Painting (Synthetic, 30 cm x 30 cm x 2 cm) Overview a beautiful painting involves the action or skill of using paint in the right manner; hence, the end product will be a picture that can speak a thousand words they say. Arts have been in trend for quite some time now. It can give different viewer different meanings style and design the saf wood matte abstract painting with frame is quite abstract and mysteriously beautiful. The painting has a nice frame to it. You can gift this to a family or a friend. The painting has various forms of certain figures on it as seen in the image. You can add a good set of lights to the place where the painting is and the decor will give a different feel and look to the place. Quality and durability the painting has a matte finish and includes a frame and will last for a long period. However, it does not include glass along with the frame."
        ],
        [
         "39",
         "Household",
         "SAF 'Ganesh' Framed Painting (Synthetic, 13.5 inch x 22 inch, Modern Art Wood, Set of 3, SANFSAS7500) Special series of high definition prints is designed in a very extraordinary way by using a quality of eye popping colors which puts a very attracting reflection towards it. Also it is framed in Black Synthetic Frame in a Italian Design. A perfect choice for your Home & for your specials."
        ],
        [
         "40",
         "Household",
         "Sehaz Artworks 'Our Memories' Pasted Wood Photo Album (22 cm x 16 cm x 4 cm, Brown) Color:OurMemo   Paper material, inside pages high quality black card. Square Size: 26cm x 16cm. Inside pages number 30 pages. (Each page can be double-sided use). Capacity: Totally depends on your photo size, 5 inch, 6 inch 2 per surface, 7 inch 1 per surface, 8 inch 1 per surface, other abnormal size requires that you own album. Use: Love log, travel log, baby growth record, family journal, works in this episode, exclusive course, learning materials and newspapers and magazines in this collection, creative gift. Result Pages: 30 pages. Weight: 0.5 kg."
        ],
        [
         "41",
         "Household",
         "Sehaz Artworks Side Shelf Pocket Wooden Key Holder (25 cm x 11 cm x 0.3 cm, Brown) Color:Side-ShelfPocket-Brown-KeyHolder   It is real trouble when you lose your keys. You have to make little space in your house where you can put your keys. So be creative and make that space interesting and stylish by Sehaz Artworks key holder that will awake your imagination. We present you 7 hooks Sehaz Artworks key holder."
        ],
        [
         "42",
         "Household",
         "Sehaz Artworks Home-Side-Shelf-WT-KeyHolder Wooden Key Holder (7 Hooks) Sehaz Artworks Home Side Shelf with Wooden Key Holder. It has 7 hooks and is in brown colour."
        ],
        [
         "43",
         "Household",
         "SAF 'Ganesha' Framed Painting (Wood, 12 inch x 12 inch)"
        ],
        [
         "44",
         "Household",
         "Sehaz Artworks 'Colourful Dog' Wall Sticker (Vinyl, 30 cm x 3 cm x 3 cm) The Sehaz Artworks vinyl sticker an affordable and fun way to decorate. Can be applied to your wall, door, mirror, tile, stainless steel, glass, plastic or any smooth or semi smooth, non-porous, clean surface. These are applied like a large sticker and give you the look of stenciling without all the paint mess! These do not have a background of any kind. Just the artwork stuck to your surface and then your surface color will show around the letters or art. These decals can be removed but not reused. You may find some difficulty applying vinyl to porous or chalk like surfaces such as stone, as well as painted surfaces in which a flat paint was used or heavily textured wall or some types of wallpaper. Picture may have been enlarged so you can see it better. Please see measurements for actual size."
        ],
        [
         "45",
         "Household",
         "Artworks: Meaning, Definition, Value Review \"Artworks offers a thorough, balanced, and incisive account of the important positions on this issue and makes an interesting and persuasive case for a position that is intuitively attractive.\" --Anita Silvers, San Francisco University \"His book makes a valuable contribution to the ongoing debates and one can only admire Stecker's mastery of so many subtle points and arguments.\" --Stein Haugom Olsen, Philosophical Review \t\t\t\t    \t \t\t\t\t\t About the Author Robert Stecker is Professor of Philosophy at Central Michigan University."
        ],
        [
         "46",
         "Household",
         "Streetkart Women's & Girl's Traditional Kutchi Art Work Sling Bag/Fashionable Sling Bag for Women/Stylish Polyester Sling Bag for Casual & Formal Wear Give you new look by carry this Hand-crafted embroidered Sling Bag from the house of Streetkart .This handbag are specially design by Artisans from kutchh .This is one of the most stylish and popular design of Sling Bag, suitable for both young girls and women. Stylish Sling perfect for parties and clubbing, or for casual daily use.This Bag Is Great Choice To Keep For All Girls And Women, It Makes A Fashion Statement And Provide A Fancy Space To Keep All Your Daily Essential.FEATURES :- The styling and warm colour reflects the latest season's trends.The Straps Facilitate An Effortless Portability.♥ This Sling bag Will Go Well With Formals And Casuals As Well. It brings you more casual or party feel and happy to carry it all the time.It comes with Stylish Solid Pattern A fashion bag full of personality, convenient for you to hold cash, coin, keys, Cellphone, cards .Perfect for all ages. Care Instructions: Do not expose to extreme heat and wipe with damp cloth ."
        ],
        [
         "47",
         "Household",
         "SAF Framed Painting (Wood, 15 inch x 18 inch, Set of 3) Painting made up in synthetic frame with UV textured print which gives multi-effects and attracts towards it. This is an special series of paintings which makes your wall very beautiful and gives a royal touch. A perfect gift for your special ones."
        ],
        [
         "48",
         "Household",
         "SAF 'Buddha Religious' Painting (Synthetic, 13.5 inch x 22 inch, SA30) Color:multicolour                                                                                 |                            Size:35 cm x 3 cm x 50 cm   It is a textured effect canvas print with UV which gives a multi-effect. It is in a Italian designed frame in a synthetic material."
        ],
        [
         "49",
         "Household",
         "Sehaz Artworks Round Wooden Wall Clock (25.5 cm x 25.5 cm x 2.8 cm, Beige, SZA-PWC-12-Butterflies) This is a classic styled analog wall clock made from wood. This clock will add charm to any room in your home. There is a plastic shell casing behind the clock for batteries. Only one AA battery is required for this clock (not included). This Sehaz Artworks wall clock can be a good gift at housewarmings, weddings and social gatherings. Decorate your home with this wall clock. Perfect for living room and bedroom. More acute and quiet."
        ]
       ],
       "shape": {
        "columns": 2,
        "rows": 50425
       }
      },
      "text/html": [
       "<div>\n",
       "<style scoped>\n",
       "    .dataframe tbody tr th:only-of-type {\n",
       "        vertical-align: middle;\n",
       "    }\n",
       "\n",
       "    .dataframe tbody tr th {\n",
       "        vertical-align: top;\n",
       "    }\n",
       "\n",
       "    .dataframe thead th {\n",
       "        text-align: right;\n",
       "    }\n",
       "</style>\n",
       "<table border=\"1\" class=\"dataframe\">\n",
       "  <thead>\n",
       "    <tr style=\"text-align: right;\">\n",
       "      <th></th>\n",
       "      <th>target</th>\n",
       "      <th>train</th>\n",
       "    </tr>\n",
       "  </thead>\n",
       "  <tbody>\n",
       "    <tr>\n",
       "      <th>0</th>\n",
       "      <td>Household</td>\n",
       "      <td>Paper Plane Design Framed Wall Hanging Motivat...</td>\n",
       "    </tr>\n",
       "    <tr>\n",
       "      <th>1</th>\n",
       "      <td>Household</td>\n",
       "      <td>SAF 'Floral' Framed Painting (Wood, 30 inch x ...</td>\n",
       "    </tr>\n",
       "    <tr>\n",
       "      <th>2</th>\n",
       "      <td>Household</td>\n",
       "      <td>SAF 'UV Textured Modern Art Print Framed' Pain...</td>\n",
       "    </tr>\n",
       "    <tr>\n",
       "      <th>3</th>\n",
       "      <td>Household</td>\n",
       "      <td>SAF Flower Print Framed Painting (Synthetic, 1...</td>\n",
       "    </tr>\n",
       "    <tr>\n",
       "      <th>4</th>\n",
       "      <td>Household</td>\n",
       "      <td>Incredible Gifts India Wooden Happy Birthday U...</td>\n",
       "    </tr>\n",
       "    <tr>\n",
       "      <th>...</th>\n",
       "      <td>...</td>\n",
       "      <td>...</td>\n",
       "    </tr>\n",
       "    <tr>\n",
       "      <th>50420</th>\n",
       "      <td>Electronics</td>\n",
       "      <td>Strontium MicroSD Class 10 8GB Memory Card (Bl...</td>\n",
       "    </tr>\n",
       "    <tr>\n",
       "      <th>50421</th>\n",
       "      <td>Electronics</td>\n",
       "      <td>CrossBeats Wave Waterproof Bluetooth Wireless ...</td>\n",
       "    </tr>\n",
       "    <tr>\n",
       "      <th>50422</th>\n",
       "      <td>Electronics</td>\n",
       "      <td>Karbonn Titanium Wind W4 (White) Karbonn Titan...</td>\n",
       "    </tr>\n",
       "    <tr>\n",
       "      <th>50423</th>\n",
       "      <td>Electronics</td>\n",
       "      <td>Samsung Guru FM Plus (SM-B110E/D, Black) Colou...</td>\n",
       "    </tr>\n",
       "    <tr>\n",
       "      <th>50424</th>\n",
       "      <td>Electronics</td>\n",
       "      <td>Micromax Canvas Win W121 (White)</td>\n",
       "    </tr>\n",
       "  </tbody>\n",
       "</table>\n",
       "<p>50425 rows × 2 columns</p>\n",
       "</div>"
      ],
      "text/plain": [
       "            target                                              train\n",
       "0        Household  Paper Plane Design Framed Wall Hanging Motivat...\n",
       "1        Household  SAF 'Floral' Framed Painting (Wood, 30 inch x ...\n",
       "2        Household  SAF 'UV Textured Modern Art Print Framed' Pain...\n",
       "3        Household  SAF Flower Print Framed Painting (Synthetic, 1...\n",
       "4        Household  Incredible Gifts India Wooden Happy Birthday U...\n",
       "...            ...                                                ...\n",
       "50420  Electronics  Strontium MicroSD Class 10 8GB Memory Card (Bl...\n",
       "50421  Electronics  CrossBeats Wave Waterproof Bluetooth Wireless ...\n",
       "50422  Electronics  Karbonn Titanium Wind W4 (White) Karbonn Titan...\n",
       "50423  Electronics  Samsung Guru FM Plus (SM-B110E/D, Black) Colou...\n",
       "50424  Electronics                   Micromax Canvas Win W121 (White)\n",
       "\n",
       "[50425 rows x 2 columns]"
      ]
     },
     "execution_count": 2,
     "metadata": {},
     "output_type": "execute_result"
    }
   ],
   "source": [
    "# load the data\n",
    "csv = os.path.join(os.getcwd(), 'dataset', 'ecommerceDataset.csv')\n",
    "df = pd.read_csv(csv, header=None, names=['target', 'train'])\n",
    "df"
   ]
  },
  {
   "cell_type": "code",
   "execution_count": 3,
   "metadata": {},
   "outputs": [
    {
     "name": "stdout",
     "output_type": "stream",
     "text": [
      "<class 'pandas.core.frame.DataFrame'>\n",
      "RangeIndex: 50425 entries, 0 to 50424\n",
      "Data columns (total 2 columns):\n",
      " #   Column  Non-Null Count  Dtype \n",
      "---  ------  --------------  ----- \n",
      " 0   target  50425 non-null  object\n",
      " 1   train   50424 non-null  object\n",
      "dtypes: object(2)\n",
      "memory usage: 788.0+ KB\n"
     ]
    }
   ],
   "source": [
    "df.info()"
   ]
  },
  {
   "cell_type": "code",
   "execution_count": 4,
   "metadata": {},
   "outputs": [
    {
     "data": {
      "text/plain": [
       "target    0\n",
       "train     1\n",
       "dtype: int64"
      ]
     },
     "execution_count": 4,
     "metadata": {},
     "output_type": "execute_result"
    }
   ],
   "source": [
    "df.isna().sum()"
   ]
  },
  {
   "cell_type": "code",
   "execution_count": 5,
   "metadata": {},
   "outputs": [
    {
     "data": {
      "text/plain": [
       "np.int64(22622)"
      ]
     },
     "execution_count": 5,
     "metadata": {},
     "output_type": "execute_result"
    }
   ],
   "source": [
    "df.duplicated().sum()"
   ]
  },
  {
   "cell_type": "code",
   "execution_count": 6,
   "metadata": {},
   "outputs": [
    {
     "data": {
      "text/plain": [
       "target    0\n",
       "train     0\n",
       "dtype: int64"
      ]
     },
     "execution_count": 6,
     "metadata": {},
     "output_type": "execute_result"
    }
   ],
   "source": [
    "# since there are 50k instance of data and only 1 na value we can drop the row\n",
    "df = df.dropna()\n",
    "df.isna().sum()"
   ]
  },
  {
   "cell_type": "code",
   "execution_count": 7,
   "metadata": {},
   "outputs": [
    {
     "name": "stdout",
     "output_type": "stream",
     "text": [
      "label distribution: target\n",
      "Household                 19313\n",
      "Books                     11820\n",
      "Electronics               10621\n",
      "Clothing & Accessories     8670\n",
      "Name: count, dtype: int64\n",
      "label distribution after removing duplicates: target\n",
      "Household                 10564\n",
      "Books                      6256\n",
      "Clothing & Accessories     5674\n",
      "Electronics                5308\n",
      "Name: count, dtype: int64\n",
      "label distribution after removing duplicates from original df: target\n",
      "Household                 10564\n",
      "Books                      6256\n",
      "Clothing & Accessories     5674\n",
      "Electronics                5308\n",
      "Name: count, dtype: int64\n"
     ]
    }
   ],
   "source": [
    "# looking wheter we should drop the duplicated value\n",
    "print('label distribution:', df['target'].value_counts()) #distribution of classes before dropping the duplicate\n",
    "# create a copy of our original df to check the distribution after droping dups \n",
    "df_copy = df.copy()\n",
    "df_copy = df_copy.drop_duplicates()\n",
    "print('label distribution after removing duplicates:', df_copy['target'].value_counts())\n",
    "# there is still apparent imbalance of data if we remove the dups so we can remove the dups to cut down on training time\n",
    "df = df.drop_duplicates()\n",
    "print('label distribution after removing duplicates from original df:', df['target'].value_counts())"
   ]
  },
  {
   "cell_type": "code",
   "execution_count": 8,
   "metadata": {},
   "outputs": [
    {
     "data": {
      "text/plain": [
       "4"
      ]
     },
     "execution_count": 8,
     "metadata": {},
     "output_type": "execute_result"
    }
   ],
   "source": [
    "nClass = len(df['target'].unique())\n",
    "nClass # see how many unique class"
   ]
  },
  {
   "cell_type": "code",
   "execution_count": 9,
   "metadata": {},
   "outputs": [
    {
     "name": "stdout",
     "output_type": "stream",
     "text": [
      "[0 1 2 3]\n",
      "['Books' 'Clothing & Accessories' 'Electronics' 'Household']\n"
     ]
    }
   ],
   "source": [
    "# split feature and label\n",
    "feature = df['train'].values\n",
    "label = df['target'].values\n",
    "# encode\n",
    "encoder = sklearn.preprocessing.LabelEncoder()\n",
    "label_encoded = encoder.fit_transform(label)\n",
    "print(np.unique(label_encoded))\n",
    "print(encoder.inverse_transform(np.unique(label_encoded)))"
   ]
  },
  {
   "cell_type": "code",
   "execution_count": 10,
   "metadata": {},
   "outputs": [],
   "source": [
    "# split data for train test and validation\n",
    "seed = 42\n",
    "x_train, x_split, y_train, y_split = sklearn.model_selection.train_test_split(feature, label_encoded, train_size=0.7, random_state=seed, stratify=label_encoded)\n",
    "x_val, x_test, y_val, y_test = sklearn.model_selection.train_test_split(x_split, y_split, train_size=0.5, random_state=seed, stratify=y_split)"
   ]
  },
  {
   "cell_type": "code",
   "execution_count": 11,
   "metadata": {},
   "outputs": [
    {
     "name": "stdout",
     "output_type": "stream",
     "text": [
      "ATOM MZ1 Steel Mortise Handle Legend Double Action Lock (175 mm, Teak Wood) Lock Size : 65 mm Type : Double Stage Locking Levers : 6 Levers Key Set : 3 Keys Lock Metal : Iron, S.S. Brass Lock Coror : Grey Note : Lock color may differ shown image. Material Base Plate : Steel Material Handle : Zamak Material Handle Pipe : MS Mechanism Spring : Spiral Spring, Stainless Steel 304 Handle Set Finish : Teak Wood Handle Set Size : 175 mm (7”) Our products prepaired consummated professional surface treatment anticorrosion technology.\n"
     ]
    }
   ],
   "source": [
    "# removing stop word to improve performance\n",
    "from nltk.corpus import stopwords\n",
    "stopwords_eng = np.array(stopwords.words('english'))\n",
    "sample_string = x_train[0]\n",
    "sample_string_removed = [[x for x in sample_string.split() if x not in stopwords_eng] for string_data in x_train]\n",
    "sample_string_removed_joined = np.array([' '.join(x) for x in sample_string_removed])\n",
    "\n",
    "def remove_stopwords(np_data,stopword_list):\n",
    "    sample_string_removed = [[x for x in string_data.split() if x not in stopword_list] for string_data in np_data]\n",
    "    sample_string_removed_joined = np.array([' '.join(x) for x in sample_string_removed])\n",
    "    return sample_string_removed_joined.astype('object')\n",
    "\n",
    "x_train_removed = remove_stopwords(x_train,stopwords_eng)\n",
    "x_val_removed = remove_stopwords(x_val, stopwords_eng)\n",
    "x_test_removed = remove_stopwords(x_test, stopwords_eng)\n",
    "print(x_train_removed[0]) "
   ]
  },
  {
   "cell_type": "code",
   "execution_count": 12,
   "metadata": {},
   "outputs": [
    {
     "name": "stdout",
     "output_type": "stream",
     "text": [
      "ATOM MZ1 Steel Mortise Handle with Legend Double Action Lock (175 mm, Teak Wood) Lock Size : 65 mm Type : Double Stage Locking Levers : 6 Levers Key Set : 3 Keys Lock Metal : Iron, S.S. and Brass Lock Coror : Grey Note : Lock color may be differ from shown in image. Material Base Plate : Steel Material Handle : Zamak Material Handle Pipe : MS Mechanism Spring : Spiral Spring, Stainless Steel 304 Handle Set Finish : Teak Wood Handle Set Size : 175 mm (7”) Our products are prepaired by the consummated and professional surface treatment and anticorrosion technology.\n"
     ]
    }
   ],
   "source": [
    "# compare with the stop words included\n",
    "print(x_train[0])\n",
    "# we can see word such as with is removed"
   ]
  },
  {
   "cell_type": "code",
   "execution_count": 13,
   "metadata": {},
   "outputs": [],
   "source": [
    "# process nlp by tokenizing\n",
    "vocab_size = 5000\n",
    "tokenizer = keras.layers.TextVectorization(max_tokens=vocab_size, output_sequence_length=250)\n",
    "tokenizer.adapt(x_train_removed) #adapting our removed stop word for tokenization"
   ]
  },
  {
   "cell_type": "code",
   "execution_count": 14,
   "metadata": {},
   "outputs": [
    {
     "name": "stdout",
     "output_type": "stream",
     "text": [
      "ATOM MZ1 Steel Mortise Handle Legend Double Action Lock (175 mm, Teak Wood) Lock Size : 65 mm Type : Double Stage Locking Levers : 6 Levers Key Set : 3 Keys Lock Metal : Iron, S.S. Brass Lock Coror : Grey Note : Lock color may differ shown image. Material Base Plate : Steel Material Handle : Zamak Material Handle Pipe : MS Mechanism Spring : Spiral Spring, Stainless Steel 304 Handle Set Finish : Teak Wood Handle Set Size : 175 mm (7”) Our products prepaired consummated professional surface treatment anticorrosion technology.\n",
      "tf.Tensor(\n",
      "[   1    1   41    1  204    1  404  822  504    1  245 3890  227  504\n",
      "   14 1848  245  162  404 1660 2080    1   74    1  364    6   37  946\n",
      "  504  241  432 2942  930  504    1  497  333  504   26  150 3913 1227\n",
      "  565   34  372  762   41   34  204    1   34  204 1936 1449 1914 1910\n",
      "    1 1910   71   41 4279  204    6  127 3890  227  204    6   14    1\n",
      "  245    1  215   68    1    1  328  295 2038    1  137    0    0    0\n",
      "    0    0    0    0    0    0    0    0    0    0    0    0    0    0\n",
      "    0    0    0    0    0    0    0    0    0    0    0    0    0    0\n",
      "    0    0    0    0    0    0    0    0    0    0    0    0    0    0\n",
      "    0    0    0    0    0    0    0    0    0    0    0    0    0    0\n",
      "    0    0    0    0    0    0    0    0    0    0    0    0    0    0\n",
      "    0    0    0    0    0    0    0    0    0    0    0    0    0    0\n",
      "    0    0    0    0    0    0    0    0    0    0    0    0    0    0\n",
      "    0    0    0    0    0    0    0    0    0    0    0    0    0    0\n",
      "    0    0    0    0    0    0    0    0    0    0    0    0    0    0\n",
      "    0    0    0    0    0    0    0    0    0    0    0    0    0    0\n",
      "    0    0    0    0    0    0    0    0    0    0    0    0    0    0\n",
      "    0    0    0    0    0    0    0    0    0    0    0    0], shape=(250,), dtype=int64)\n"
     ]
    }
   ],
   "source": [
    "# see our tokenized word and our original word\n",
    "sample_text = x_train_removed[:2]\n",
    "sample_token = tokenizer(sample_text)\n",
    "print(sample_text[0])\n",
    "print(sample_token[0])"
   ]
  },
  {
   "cell_type": "code",
   "execution_count": 15,
   "metadata": {},
   "outputs": [
    {
     "name": "stdout",
     "output_type": "stream",
     "text": [
      "tf.Tensor(\n",
      "[[ 0.03824066  0.01448122  0.03922582 ... -0.02309498 -0.03289719\n",
      "   0.03837833]\n",
      " [ 0.03824066  0.01448122  0.03922582 ... -0.02309498 -0.03289719\n",
      "   0.03837833]\n",
      " [ 0.03717271  0.01472297 -0.04631726 ... -0.04804343 -0.04691308\n",
      "  -0.00213372]\n",
      " ...\n",
      " [ 0.01341579 -0.03251721 -0.03987427 ... -0.04766048  0.03762862\n",
      "  -0.00856088]\n",
      " [ 0.01341579 -0.03251721 -0.03987427 ... -0.04766048  0.03762862\n",
      "  -0.00856088]\n",
      " [ 0.01341579 -0.03251721 -0.03987427 ... -0.04766048  0.03762862\n",
      "  -0.00856088]], shape=(250, 64), dtype=float32)\n"
     ]
    }
   ],
   "source": [
    "# embedding\n",
    "embedding = keras.layers.Embedding(input_dim=vocab_size, output_dim=64)\n",
    "sample_embedding = embedding(sample_token)\n",
    "print(sample_embedding[0]) # seeour sample embedding"
   ]
  },
  {
   "cell_type": "code",
   "execution_count": 16,
   "metadata": {},
   "outputs": [],
   "source": [
    "# create model\n",
    "model = keras.Sequential()\n",
    "# add nlp layers\n",
    "model.add(tokenizer)\n",
    "model.add(embedding)\n",
    "# add rnn layers\n",
    "reg = keras.regularizers.l1_l2() # add l2 to prevent over fitting\n",
    "model.add(keras.layers.Bidirectional(keras.layers.LSTM(16, return_sequences=False, kernel_regularizer=reg)))\n",
    "model.add(keras.layers.Dense(nClass, activation='softmax'))"
   ]
  },
  {
   "cell_type": "code",
   "execution_count": 17,
   "metadata": {},
   "outputs": [],
   "source": [
    "loss = keras.losses.SparseCategoricalCrossentropy() #int label, softmax\n",
    "model.compile(optimizer='adam', loss=loss, metrics=['accuracy'])"
   ]
  },
  {
   "cell_type": "code",
   "execution_count": 18,
   "metadata": {},
   "outputs": [
    {
     "data": {
      "text/plain": [
       "<Experiment: artifact_location='file:///c:/Users/suhaimi/Desktop/Nidzam/capstone_project/capstone%202/mlruns/974647785270208707', creation_time=1741658183982, experiment_id='974647785270208707', last_update_time=1741658183982, lifecycle_stage='active', name='Ecommerce Text Classification', tags={}>"
      ]
     },
     "execution_count": 18,
     "metadata": {},
     "output_type": "execute_result"
    }
   ],
   "source": [
    "import mlflow\n",
    "import tensorboard\n",
    "mlflow.set_experiment('Ecommerce Text Classification')"
   ]
  },
  {
   "cell_type": "code",
   "execution_count": 19,
   "metadata": {},
   "outputs": [
    {
     "name": "stderr",
     "output_type": "stream",
     "text": [
      "2025/03/11 12:14:30 WARNING mlflow.utils.autologging_utils: Encountered unexpected error during autologging: 'NoneType' object is not subscriptable\n"
     ]
    },
    {
     "name": "stdout",
     "output_type": "stream",
     "text": [
      "Epoch 1/10\n",
      "\u001b[1m1217/1217\u001b[0m \u001b[32m━━━━━━━━━━━━━━━━━━━━\u001b[0m\u001b[37m\u001b[0m \u001b[1m64s\u001b[0m 50ms/step - accuracy: 0.7831 - loss: 0.6232 - val_accuracy: 0.9403 - val_loss: 0.2148\n",
      "Epoch 2/10\n",
      "\u001b[1m1217/1217\u001b[0m \u001b[32m━━━━━━━━━━━━━━━━━━━━\u001b[0m\u001b[37m\u001b[0m \u001b[1m61s\u001b[0m 50ms/step - accuracy: 0.9637 - loss: 0.1374 - val_accuracy: 0.9465 - val_loss: 0.1893\n",
      "Epoch 3/10\n",
      "\u001b[1m1217/1217\u001b[0m \u001b[32m━━━━━━━━━━━━━━━━━━━━\u001b[0m\u001b[37m\u001b[0m \u001b[1m62s\u001b[0m 51ms/step - accuracy: 0.9773 - loss: 0.0870 - val_accuracy: 0.9424 - val_loss: 0.2055\n",
      "Epoch 4/10\n",
      "\u001b[1m1217/1217\u001b[0m \u001b[32m━━━━━━━━━━━━━━━━━━━━\u001b[0m\u001b[37m\u001b[0m \u001b[1m78s\u001b[0m 64ms/step - accuracy: 0.9839 - loss: 0.0612 - val_accuracy: 0.9465 - val_loss: 0.2138\n",
      "Epoch 5/10\n",
      "\u001b[1m1217/1217\u001b[0m \u001b[32m━━━━━━━━━━━━━━━━━━━━\u001b[0m\u001b[37m\u001b[0m \u001b[1m78s\u001b[0m 64ms/step - accuracy: 0.9871 - loss: 0.0486 - val_accuracy: 0.9420 - val_loss: 0.2415\n",
      "Epoch 6/10\n",
      "\u001b[1m1217/1217\u001b[0m \u001b[32m━━━━━━━━━━━━━━━━━━━━\u001b[0m\u001b[37m\u001b[0m \u001b[1m78s\u001b[0m 64ms/step - accuracy: 0.9917 - loss: 0.0283 - val_accuracy: 0.9429 - val_loss: 0.2581\n",
      "Epoch 7/10\n",
      "\u001b[1m1217/1217\u001b[0m \u001b[32m━━━━━━━━━━━━━━━━━━━━\u001b[0m\u001b[37m\u001b[0m \u001b[1m63s\u001b[0m 52ms/step - accuracy: 0.9924 - loss: 0.0235 - val_accuracy: 0.9362 - val_loss: 0.2937\n",
      "Epoch 8/10\n",
      "\u001b[1m1217/1217\u001b[0m \u001b[32m━━━━━━━━━━━━━━━━━━━━\u001b[0m\u001b[37m\u001b[0m \u001b[1m63s\u001b[0m 52ms/step - accuracy: 0.9950 - loss: 0.0180 - val_accuracy: 0.9429 - val_loss: 0.2958\n",
      "Epoch 9/10\n",
      "\u001b[1m1217/1217\u001b[0m \u001b[32m━━━━━━━━━━━━━━━━━━━━\u001b[0m\u001b[37m\u001b[0m \u001b[1m63s\u001b[0m 52ms/step - accuracy: 0.9964 - loss: 0.0118 - val_accuracy: 0.9410 - val_loss: 0.3282\n",
      "Epoch 10/10\n",
      "\u001b[1m1217/1217\u001b[0m \u001b[32m━━━━━━━━━━━━━━━━━━━━\u001b[0m\u001b[37m\u001b[0m \u001b[1m63s\u001b[0m 52ms/step - accuracy: 0.9961 - loss: 0.0131 - val_accuracy: 0.9408 - val_loss: 0.3442\n"
     ]
    },
    {
     "name": "stderr",
     "output_type": "stream",
     "text": [
      "2025/03/11 12:25:42 WARNING mlflow.keras.save: You are saving a Keras model without specifying model signature.\n",
      "2025/03/11 12:25:50 WARNING mlflow.models.model: Model logged without a signature and input example. Please set `input_example` parameter when logging the model to auto infer the model signature.\n"
     ]
    }
   ],
   "source": [
    "# train model, log into mlflow and tensorboard\n",
    "with mlflow.start_run() as run:\n",
    "    mlflow_callback = mlflow.keras.MLflowCallback(run)\n",
    "    run_id = run.info.run_id\n",
    "    log_path = f'logs/{run_id}'\n",
    "    ts = keras.callbacks.TensorBoard(log_dir=log_path)\n",
    "    history = model.fit(x_train_removed, y_train, validation_data=(x_val_removed,y_val), batch_size=16, epochs=10, callbacks=[mlflow_callback,ts])\n",
    "    mlflow.keras.save.log_model(model, artifact_path='model')"
   ]
  },
  {
   "cell_type": "code",
   "execution_count": 20,
   "metadata": {},
   "outputs": [
    {
     "data": {
      "text/html": [
       "<pre style=\"white-space:pre;overflow-x:auto;line-height:normal;font-family:Menlo,'DejaVu Sans Mono',consolas,'Courier New',monospace\"><span style=\"font-weight: bold\">Model: \"sequential\"</span>\n",
       "</pre>\n"
      ],
      "text/plain": [
       "\u001b[1mModel: \"sequential\"\u001b[0m\n"
      ]
     },
     "metadata": {},
     "output_type": "display_data"
    },
    {
     "data": {
      "text/html": [
       "<pre style=\"white-space:pre;overflow-x:auto;line-height:normal;font-family:Menlo,'DejaVu Sans Mono',consolas,'Courier New',monospace\">┏━━━━━━━━━━━━━━━━━━━━━━━━━━━━━━━━━┳━━━━━━━━━━━━━━━━━━━━━━━━┳━━━━━━━━━━━━━━━┓\n",
       "┃<span style=\"font-weight: bold\"> Layer (type)                    </span>┃<span style=\"font-weight: bold\"> Output Shape           </span>┃<span style=\"font-weight: bold\">       Param # </span>┃\n",
       "┡━━━━━━━━━━━━━━━━━━━━━━━━━━━━━━━━━╇━━━━━━━━━━━━━━━━━━━━━━━━╇━━━━━━━━━━━━━━━┩\n",
       "│ text_vectorization              │ (<span style=\"color: #00d7ff; text-decoration-color: #00d7ff\">None</span>, <span style=\"color: #00af00; text-decoration-color: #00af00\">250</span>)            │             <span style=\"color: #00af00; text-decoration-color: #00af00\">0</span> │\n",
       "│ (<span style=\"color: #0087ff; text-decoration-color: #0087ff\">TextVectorization</span>)             │                        │               │\n",
       "├─────────────────────────────────┼────────────────────────┼───────────────┤\n",
       "│ embedding (<span style=\"color: #0087ff; text-decoration-color: #0087ff\">Embedding</span>)           │ (<span style=\"color: #00d7ff; text-decoration-color: #00d7ff\">None</span>, <span style=\"color: #00af00; text-decoration-color: #00af00\">250</span>, <span style=\"color: #00af00; text-decoration-color: #00af00\">64</span>)        │       <span style=\"color: #00af00; text-decoration-color: #00af00\">320,000</span> │\n",
       "├─────────────────────────────────┼────────────────────────┼───────────────┤\n",
       "│ bidirectional (<span style=\"color: #0087ff; text-decoration-color: #0087ff\">Bidirectional</span>)   │ (<span style=\"color: #00d7ff; text-decoration-color: #00d7ff\">None</span>, <span style=\"color: #00af00; text-decoration-color: #00af00\">32</span>)             │        <span style=\"color: #00af00; text-decoration-color: #00af00\">10,368</span> │\n",
       "├─────────────────────────────────┼────────────────────────┼───────────────┤\n",
       "│ dense (<span style=\"color: #0087ff; text-decoration-color: #0087ff\">Dense</span>)                   │ (<span style=\"color: #00d7ff; text-decoration-color: #00d7ff\">None</span>, <span style=\"color: #00af00; text-decoration-color: #00af00\">4</span>)              │           <span style=\"color: #00af00; text-decoration-color: #00af00\">132</span> │\n",
       "└─────────────────────────────────┴────────────────────────┴───────────────┘\n",
       "</pre>\n"
      ],
      "text/plain": [
       "┏━━━━━━━━━━━━━━━━━━━━━━━━━━━━━━━━━┳━━━━━━━━━━━━━━━━━━━━━━━━┳━━━━━━━━━━━━━━━┓\n",
       "┃\u001b[1m \u001b[0m\u001b[1mLayer (type)                   \u001b[0m\u001b[1m \u001b[0m┃\u001b[1m \u001b[0m\u001b[1mOutput Shape          \u001b[0m\u001b[1m \u001b[0m┃\u001b[1m \u001b[0m\u001b[1m      Param #\u001b[0m\u001b[1m \u001b[0m┃\n",
       "┡━━━━━━━━━━━━━━━━━━━━━━━━━━━━━━━━━╇━━━━━━━━━━━━━━━━━━━━━━━━╇━━━━━━━━━━━━━━━┩\n",
       "│ text_vectorization              │ (\u001b[38;5;45mNone\u001b[0m, \u001b[38;5;34m250\u001b[0m)            │             \u001b[38;5;34m0\u001b[0m │\n",
       "│ (\u001b[38;5;33mTextVectorization\u001b[0m)             │                        │               │\n",
       "├─────────────────────────────────┼────────────────────────┼───────────────┤\n",
       "│ embedding (\u001b[38;5;33mEmbedding\u001b[0m)           │ (\u001b[38;5;45mNone\u001b[0m, \u001b[38;5;34m250\u001b[0m, \u001b[38;5;34m64\u001b[0m)        │       \u001b[38;5;34m320,000\u001b[0m │\n",
       "├─────────────────────────────────┼────────────────────────┼───────────────┤\n",
       "│ bidirectional (\u001b[38;5;33mBidirectional\u001b[0m)   │ (\u001b[38;5;45mNone\u001b[0m, \u001b[38;5;34m32\u001b[0m)             │        \u001b[38;5;34m10,368\u001b[0m │\n",
       "├─────────────────────────────────┼────────────────────────┼───────────────┤\n",
       "│ dense (\u001b[38;5;33mDense\u001b[0m)                   │ (\u001b[38;5;45mNone\u001b[0m, \u001b[38;5;34m4\u001b[0m)              │           \u001b[38;5;34m132\u001b[0m │\n",
       "└─────────────────────────────────┴────────────────────────┴───────────────┘\n"
      ]
     },
     "metadata": {},
     "output_type": "display_data"
    },
    {
     "data": {
      "text/html": [
       "<pre style=\"white-space:pre;overflow-x:auto;line-height:normal;font-family:Menlo,'DejaVu Sans Mono',consolas,'Courier New',monospace\"><span style=\"font-weight: bold\"> Total params: </span><span style=\"color: #00af00; text-decoration-color: #00af00\">991,502</span> (3.78 MB)\n",
       "</pre>\n"
      ],
      "text/plain": [
       "\u001b[1m Total params: \u001b[0m\u001b[38;5;34m991,502\u001b[0m (3.78 MB)\n"
      ]
     },
     "metadata": {},
     "output_type": "display_data"
    },
    {
     "data": {
      "text/html": [
       "<pre style=\"white-space:pre;overflow-x:auto;line-height:normal;font-family:Menlo,'DejaVu Sans Mono',consolas,'Courier New',monospace\"><span style=\"font-weight: bold\"> Trainable params: </span><span style=\"color: #00af00; text-decoration-color: #00af00\">330,500</span> (1.26 MB)\n",
       "</pre>\n"
      ],
      "text/plain": [
       "\u001b[1m Trainable params: \u001b[0m\u001b[38;5;34m330,500\u001b[0m (1.26 MB)\n"
      ]
     },
     "metadata": {},
     "output_type": "display_data"
    },
    {
     "data": {
      "text/html": [
       "<pre style=\"white-space:pre;overflow-x:auto;line-height:normal;font-family:Menlo,'DejaVu Sans Mono',consolas,'Courier New',monospace\"><span style=\"font-weight: bold\"> Non-trainable params: </span><span style=\"color: #00af00; text-decoration-color: #00af00\">0</span> (0.00 B)\n",
       "</pre>\n"
      ],
      "text/plain": [
       "\u001b[1m Non-trainable params: \u001b[0m\u001b[38;5;34m0\u001b[0m (0.00 B)\n"
      ]
     },
     "metadata": {},
     "output_type": "display_data"
    },
    {
     "data": {
      "text/html": [
       "<pre style=\"white-space:pre;overflow-x:auto;line-height:normal;font-family:Menlo,'DejaVu Sans Mono',consolas,'Courier New',monospace\"><span style=\"font-weight: bold\"> Optimizer params: </span><span style=\"color: #00af00; text-decoration-color: #00af00\">661,002</span> (2.52 MB)\n",
       "</pre>\n"
      ],
      "text/plain": [
       "\u001b[1m Optimizer params: \u001b[0m\u001b[38;5;34m661,002\u001b[0m (2.52 MB)\n"
      ]
     },
     "metadata": {},
     "output_type": "display_data"
    }
   ],
   "source": [
    "model.summary()"
   ]
  },
  {
   "cell_type": "code",
   "execution_count": 21,
   "metadata": {},
   "outputs": [
    {
     "name": "stdout",
     "output_type": "stream",
     "text": [
      "\u001b[1m131/131\u001b[0m \u001b[32m━━━━━━━━━━━━━━━━━━━━\u001b[0m\u001b[37m\u001b[0m \u001b[1m2s\u001b[0m 14ms/step\n",
      "[9.2402925e-06 3.7064467e-06 3.1903415e-05 9.9995518e-01]\n",
      "3\n",
      "Household\n"
     ]
    }
   ],
   "source": [
    "y_pred = model.predict(x_test_removed)\n",
    "print(y_pred[0])\n",
    "y_pred_class = np.argmax(y_pred,axis=1)\n",
    "print(y_pred_class[0])\n",
    "y_pred_it = encoder.inverse_transform(y_pred_class)\n",
    "print(y_pred_it[0])"
   ]
  },
  {
   "cell_type": "code",
   "execution_count": 22,
   "metadata": {},
   "outputs": [
    {
     "name": "stdout",
     "output_type": "stream",
     "text": [
      "f1 score:  0.9363751852771114\n"
     ]
    }
   ],
   "source": [
    "f1 = sklearn.metrics.f1_score(y_test, y_pred_class, average='weighted')\n",
    "print('f1 score: ', f1)"
   ]
  },
  {
   "cell_type": "code",
   "execution_count": 23,
   "metadata": {},
   "outputs": [],
   "source": [
    "import pickle\n",
    "with open('encoder.pkl','wb') as file:\n",
    "    pickle.dump(encoder, file)"
   ]
  }
 ],
 "metadata": {
  "kernelspec": {
   "display_name": "machinelearning",
   "language": "python",
   "name": "python3"
  },
  "language_info": {
   "codemirror_mode": {
    "name": "ipython",
    "version": 3
   },
   "file_extension": ".py",
   "mimetype": "text/x-python",
   "name": "python",
   "nbconvert_exporter": "python",
   "pygments_lexer": "ipython3",
   "version": "3.12.8"
  }
 },
 "nbformat": 4,
 "nbformat_minor": 2
}
